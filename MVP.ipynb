{
 "cells": [
  {
   "cell_type": "markdown",
   "id": "dc7acc61-56f1-4e74-94ff-187ef7df8104",
   "metadata": {},
   "source": [
    "# Dataset: Customer Transactions and Ratings"
   ]
  },
  {
   "cell_type": "markdown",
   "id": "6ce8b5f1-d33a-4b77-851c-3b8c8a7dd1e1",
   "metadata": {},
   "source": [
    "# Prepared by: Tesfamichael M Tafesse "
   ]
  },
  {
   "cell_type": "code",
   "execution_count": 4,
   "id": "72d9c75d-3212-4f1b-9cb3-19413152b678",
   "metadata": {},
   "outputs": [],
   "source": [
    "import pandas as pd\n",
    "import seaborn as sns \n",
    "import numpy as np\n",
    "import matplotlib.pyplot as plt \n",
    "import datetime\n"
   ]
  },
  {
   "cell_type": "code",
   "execution_count": 5,
   "id": "9fa44cf0-252c-41e3-8563-9208536d82de",
   "metadata": {},
   "outputs": [],
   "source": [
    "df=pd.read_csv(r\"C:\\Users\\user\\OneDrive\\Desktop\\MVP project\\sample_data_analysis.csv\")"
   ]
  },
  {
   "cell_type": "code",
   "execution_count": 6,
   "id": "96dbfd3b-e0b2-4930-b6b8-6b5c75618fe8",
   "metadata": {},
   "outputs": [
    {
     "data": {
      "text/html": [
       "<div>\n",
       "<style scoped>\n",
       "    .dataframe tbody tr th:only-of-type {\n",
       "        vertical-align: middle;\n",
       "    }\n",
       "\n",
       "    .dataframe tbody tr th {\n",
       "        vertical-align: top;\n",
       "    }\n",
       "\n",
       "    .dataframe thead th {\n",
       "        text-align: right;\n",
       "    }\n",
       "</style>\n",
       "<table border=\"1\" class=\"dataframe\">\n",
       "  <thead>\n",
       "    <tr style=\"text-align: right;\">\n",
       "      <th></th>\n",
       "      <th>Customer_ID</th>\n",
       "      <th>Name</th>\n",
       "      <th>Age</th>\n",
       "      <th>Purchase_Amount</th>\n",
       "      <th>Category</th>\n",
       "      <th>Date</th>\n",
       "      <th>Rating</th>\n",
       "    </tr>\n",
       "  </thead>\n",
       "  <tbody>\n",
       "    <tr>\n",
       "      <th>0</th>\n",
       "      <td>CUST1000</td>\n",
       "      <td>Alice Brown</td>\n",
       "      <td>35.0</td>\n",
       "      <td>1914.05</td>\n",
       "      <td>toys</td>\n",
       "      <td>22/04/2023</td>\n",
       "      <td>1.8</td>\n",
       "    </tr>\n",
       "    <tr>\n",
       "      <th>1</th>\n",
       "      <td>CUST1001</td>\n",
       "      <td>Jane Smith</td>\n",
       "      <td>35.0</td>\n",
       "      <td>344.45</td>\n",
       "      <td>Fashion</td>\n",
       "      <td>2023-10-30</td>\n",
       "      <td>NaN</td>\n",
       "    </tr>\n",
       "    <tr>\n",
       "      <th>2</th>\n",
       "      <td>CUST1002</td>\n",
       "      <td>Emily Davis</td>\n",
       "      <td>31.0</td>\n",
       "      <td>79.21</td>\n",
       "      <td>electronics</td>\n",
       "      <td>06-06-2023</td>\n",
       "      <td>3.4</td>\n",
       "    </tr>\n",
       "    <tr>\n",
       "      <th>3</th>\n",
       "      <td>CUST1003</td>\n",
       "      <td>Jane Smith</td>\n",
       "      <td>60.0</td>\n",
       "      <td>143.65</td>\n",
       "      <td>Toys</td>\n",
       "      <td>11/12/2023</td>\n",
       "      <td>1.6</td>\n",
       "    </tr>\n",
       "    <tr>\n",
       "      <th>4</th>\n",
       "      <td>CUST1004</td>\n",
       "      <td>Jane Smith</td>\n",
       "      <td>58.0</td>\n",
       "      <td>31.35</td>\n",
       "      <td>Electronics</td>\n",
       "      <td>03/07/2023</td>\n",
       "      <td>1.2</td>\n",
       "    </tr>\n",
       "    <tr>\n",
       "      <th>...</th>\n",
       "      <td>...</td>\n",
       "      <td>...</td>\n",
       "      <td>...</td>\n",
       "      <td>...</td>\n",
       "      <td>...</td>\n",
       "      <td>...</td>\n",
       "      <td>...</td>\n",
       "    </tr>\n",
       "    <tr>\n",
       "      <th>195</th>\n",
       "      <td>CUST1195</td>\n",
       "      <td>Alice Brown</td>\n",
       "      <td>21.0</td>\n",
       "      <td>34.75</td>\n",
       "      <td>Fashion</td>\n",
       "      <td>07/12/2023</td>\n",
       "      <td>3.9</td>\n",
       "    </tr>\n",
       "    <tr>\n",
       "      <th>196</th>\n",
       "      <td>CUST1196</td>\n",
       "      <td>Bob Johnson</td>\n",
       "      <td>46.0</td>\n",
       "      <td>16.81</td>\n",
       "      <td>toys</td>\n",
       "      <td>08/08/2022</td>\n",
       "      <td>4.4</td>\n",
       "    </tr>\n",
       "    <tr>\n",
       "      <th>197</th>\n",
       "      <td>CUST1197</td>\n",
       "      <td>Emily Davis</td>\n",
       "      <td>36.0</td>\n",
       "      <td>396.05</td>\n",
       "      <td>home &amp; kitchen</td>\n",
       "      <td>2022-07-03</td>\n",
       "      <td>4.5</td>\n",
       "    </tr>\n",
       "    <tr>\n",
       "      <th>198</th>\n",
       "      <td>CUST1198</td>\n",
       "      <td>John Doe</td>\n",
       "      <td>19.0</td>\n",
       "      <td>137.98</td>\n",
       "      <td>home &amp; kitchen</td>\n",
       "      <td>2023-11-12</td>\n",
       "      <td>1.2</td>\n",
       "    </tr>\n",
       "    <tr>\n",
       "      <th>199</th>\n",
       "      <td>CUST1199</td>\n",
       "      <td>Bob Johnson</td>\n",
       "      <td>21.0</td>\n",
       "      <td>349.33</td>\n",
       "      <td>Toys</td>\n",
       "      <td>08-30-2022</td>\n",
       "      <td>3.9</td>\n",
       "    </tr>\n",
       "  </tbody>\n",
       "</table>\n",
       "<p>200 rows × 7 columns</p>\n",
       "</div>"
      ],
      "text/plain": [
       "    Customer_ID         Name   Age  Purchase_Amount        Category  \\\n",
       "0      CUST1000  Alice Brown  35.0          1914.05            toys   \n",
       "1      CUST1001   Jane Smith  35.0           344.45         Fashion   \n",
       "2      CUST1002  Emily Davis  31.0            79.21     electronics   \n",
       "3      CUST1003   Jane Smith  60.0           143.65            Toys   \n",
       "4      CUST1004   Jane Smith  58.0            31.35     Electronics   \n",
       "..          ...          ...   ...              ...             ...   \n",
       "195    CUST1195  Alice Brown  21.0            34.75         Fashion   \n",
       "196    CUST1196  Bob Johnson  46.0            16.81            toys   \n",
       "197    CUST1197  Emily Davis  36.0           396.05  home & kitchen   \n",
       "198    CUST1198     John Doe  19.0           137.98  home & kitchen   \n",
       "199    CUST1199  Bob Johnson  21.0           349.33            Toys   \n",
       "\n",
       "           Date  Rating  \n",
       "0    22/04/2023     1.8  \n",
       "1    2023-10-30     NaN  \n",
       "2    06-06-2023     3.4  \n",
       "3    11/12/2023     1.6  \n",
       "4    03/07/2023     1.2  \n",
       "..          ...     ...  \n",
       "195  07/12/2023     3.9  \n",
       "196  08/08/2022     4.4  \n",
       "197  2022-07-03     4.5  \n",
       "198  2023-11-12     1.2  \n",
       "199  08-30-2022     3.9  \n",
       "\n",
       "[200 rows x 7 columns]"
      ]
     },
     "execution_count": 6,
     "metadata": {},
     "output_type": "execute_result"
    }
   ],
   "source": [
    "df"
   ]
  },
  {
   "cell_type": "markdown",
   "id": "4c367c9c-f3a8-41c2-ae4d-52a6bd3d7afc",
   "metadata": {},
   "source": [
    "# Using Missing Values with median"
   ]
  },
  {
   "cell_type": "code",
   "execution_count": 50,
   "id": "9642b1fc-5689-40c3-b544-1ad65ae0ca24",
   "metadata": {},
   "outputs": [],
   "source": [
    "df['Age'] = df['Age'].fillna(df['Age'].median())\n"
   ]
  },
  {
   "cell_type": "code",
   "execution_count": 51,
   "id": "b05e6919-7fc1-4ab3-8910-05f61597b8ce",
   "metadata": {},
   "outputs": [],
   "source": [
    "df['Rating'] = df['Rating'].fillna(df['Rating'].median())\n"
   ]
  },
  {
   "cell_type": "code",
   "execution_count": 52,
   "id": "1d546588-bc2d-43fc-be0a-7d19bb27d2b4",
   "metadata": {},
   "outputs": [
    {
     "data": {
      "text/plain": [
       "<bound method DataFrame.info of     Customer_ID         Name   Age  Purchase_Amount        Category  \\\n",
       "0      CUST1000  Alice Brown  35.0          1914.05            toys   \n",
       "1      CUST1001   Jane Smith  35.0           344.45         Fashion   \n",
       "2      CUST1002  Emily Davis  31.0            79.21     electronics   \n",
       "3      CUST1003   Jane Smith  60.0           143.65            Toys   \n",
       "4      CUST1004   Jane Smith  58.0            31.35     Electronics   \n",
       "..          ...          ...   ...              ...             ...   \n",
       "195    CUST1195  Alice Brown  21.0            34.75         Fashion   \n",
       "196    CUST1196  Bob Johnson  46.0            16.81            toys   \n",
       "197    CUST1197  Emily Davis  36.0           396.05  home & kitchen   \n",
       "198    CUST1198     John Doe  19.0           137.98  home & kitchen   \n",
       "199    CUST1199  Bob Johnson  21.0           349.33            Toys   \n",
       "\n",
       "           Date  Rating  \n",
       "0    22/04/2023     1.8  \n",
       "1    2023-10-30     3.2  \n",
       "2    06-06-2023     3.4  \n",
       "3    11/12/2023     1.6  \n",
       "4    03/07/2023     1.2  \n",
       "..          ...     ...  \n",
       "195  07/12/2023     3.9  \n",
       "196  08/08/2022     4.4  \n",
       "197  2022-07-03     4.5  \n",
       "198  2023-11-12     1.2  \n",
       "199  08-30-2022     3.9  \n",
       "\n",
       "[200 rows x 7 columns]>"
      ]
     },
     "execution_count": 52,
     "metadata": {},
     "output_type": "execute_result"
    }
   ],
   "source": [
    "df.info"
   ]
  },
  {
   "cell_type": "code",
   "execution_count": 53,
   "id": "db254d75-a54c-4fde-bf0e-1a29dff06155",
   "metadata": {},
   "outputs": [
    {
     "data": {
      "text/html": [
       "<div>\n",
       "<style scoped>\n",
       "    .dataframe tbody tr th:only-of-type {\n",
       "        vertical-align: middle;\n",
       "    }\n",
       "\n",
       "    .dataframe tbody tr th {\n",
       "        vertical-align: top;\n",
       "    }\n",
       "\n",
       "    .dataframe thead th {\n",
       "        text-align: right;\n",
       "    }\n",
       "</style>\n",
       "<table border=\"1\" class=\"dataframe\">\n",
       "  <thead>\n",
       "    <tr style=\"text-align: right;\">\n",
       "      <th></th>\n",
       "      <th>Customer_ID</th>\n",
       "      <th>Name</th>\n",
       "      <th>Age</th>\n",
       "      <th>Purchase_Amount</th>\n",
       "      <th>Category</th>\n",
       "      <th>Date</th>\n",
       "      <th>Rating</th>\n",
       "    </tr>\n",
       "  </thead>\n",
       "  <tbody>\n",
       "    <tr>\n",
       "      <th>0</th>\n",
       "      <td>CUST1000</td>\n",
       "      <td>Alice Brown</td>\n",
       "      <td>35.0</td>\n",
       "      <td>1914.05</td>\n",
       "      <td>toys</td>\n",
       "      <td>22/04/2023</td>\n",
       "      <td>1.8</td>\n",
       "    </tr>\n",
       "    <tr>\n",
       "      <th>1</th>\n",
       "      <td>CUST1001</td>\n",
       "      <td>Jane Smith</td>\n",
       "      <td>35.0</td>\n",
       "      <td>344.45</td>\n",
       "      <td>Fashion</td>\n",
       "      <td>2023-10-30</td>\n",
       "      <td>3.2</td>\n",
       "    </tr>\n",
       "    <tr>\n",
       "      <th>2</th>\n",
       "      <td>CUST1002</td>\n",
       "      <td>Emily Davis</td>\n",
       "      <td>31.0</td>\n",
       "      <td>79.21</td>\n",
       "      <td>electronics</td>\n",
       "      <td>06-06-2023</td>\n",
       "      <td>3.4</td>\n",
       "    </tr>\n",
       "    <tr>\n",
       "      <th>3</th>\n",
       "      <td>CUST1003</td>\n",
       "      <td>Jane Smith</td>\n",
       "      <td>60.0</td>\n",
       "      <td>143.65</td>\n",
       "      <td>Toys</td>\n",
       "      <td>11/12/2023</td>\n",
       "      <td>1.6</td>\n",
       "    </tr>\n",
       "    <tr>\n",
       "      <th>4</th>\n",
       "      <td>CUST1004</td>\n",
       "      <td>Jane Smith</td>\n",
       "      <td>58.0</td>\n",
       "      <td>31.35</td>\n",
       "      <td>Electronics</td>\n",
       "      <td>03/07/2023</td>\n",
       "      <td>1.2</td>\n",
       "    </tr>\n",
       "    <tr>\n",
       "      <th>...</th>\n",
       "      <td>...</td>\n",
       "      <td>...</td>\n",
       "      <td>...</td>\n",
       "      <td>...</td>\n",
       "      <td>...</td>\n",
       "      <td>...</td>\n",
       "      <td>...</td>\n",
       "    </tr>\n",
       "    <tr>\n",
       "      <th>195</th>\n",
       "      <td>CUST1195</td>\n",
       "      <td>Alice Brown</td>\n",
       "      <td>21.0</td>\n",
       "      <td>34.75</td>\n",
       "      <td>Fashion</td>\n",
       "      <td>07/12/2023</td>\n",
       "      <td>3.9</td>\n",
       "    </tr>\n",
       "    <tr>\n",
       "      <th>196</th>\n",
       "      <td>CUST1196</td>\n",
       "      <td>Bob Johnson</td>\n",
       "      <td>46.0</td>\n",
       "      <td>16.81</td>\n",
       "      <td>toys</td>\n",
       "      <td>08/08/2022</td>\n",
       "      <td>4.4</td>\n",
       "    </tr>\n",
       "    <tr>\n",
       "      <th>197</th>\n",
       "      <td>CUST1197</td>\n",
       "      <td>Emily Davis</td>\n",
       "      <td>36.0</td>\n",
       "      <td>396.05</td>\n",
       "      <td>home &amp; kitchen</td>\n",
       "      <td>2022-07-03</td>\n",
       "      <td>4.5</td>\n",
       "    </tr>\n",
       "    <tr>\n",
       "      <th>198</th>\n",
       "      <td>CUST1198</td>\n",
       "      <td>John Doe</td>\n",
       "      <td>19.0</td>\n",
       "      <td>137.98</td>\n",
       "      <td>home &amp; kitchen</td>\n",
       "      <td>2023-11-12</td>\n",
       "      <td>1.2</td>\n",
       "    </tr>\n",
       "    <tr>\n",
       "      <th>199</th>\n",
       "      <td>CUST1199</td>\n",
       "      <td>Bob Johnson</td>\n",
       "      <td>21.0</td>\n",
       "      <td>349.33</td>\n",
       "      <td>Toys</td>\n",
       "      <td>08-30-2022</td>\n",
       "      <td>3.9</td>\n",
       "    </tr>\n",
       "  </tbody>\n",
       "</table>\n",
       "<p>200 rows × 7 columns</p>\n",
       "</div>"
      ],
      "text/plain": [
       "    Customer_ID         Name   Age  Purchase_Amount        Category  \\\n",
       "0      CUST1000  Alice Brown  35.0          1914.05            toys   \n",
       "1      CUST1001   Jane Smith  35.0           344.45         Fashion   \n",
       "2      CUST1002  Emily Davis  31.0            79.21     electronics   \n",
       "3      CUST1003   Jane Smith  60.0           143.65            Toys   \n",
       "4      CUST1004   Jane Smith  58.0            31.35     Electronics   \n",
       "..          ...          ...   ...              ...             ...   \n",
       "195    CUST1195  Alice Brown  21.0            34.75         Fashion   \n",
       "196    CUST1196  Bob Johnson  46.0            16.81            toys   \n",
       "197    CUST1197  Emily Davis  36.0           396.05  home & kitchen   \n",
       "198    CUST1198     John Doe  19.0           137.98  home & kitchen   \n",
       "199    CUST1199  Bob Johnson  21.0           349.33            Toys   \n",
       "\n",
       "           Date  Rating  \n",
       "0    22/04/2023     1.8  \n",
       "1    2023-10-30     3.2  \n",
       "2    06-06-2023     3.4  \n",
       "3    11/12/2023     1.6  \n",
       "4    03/07/2023     1.2  \n",
       "..          ...     ...  \n",
       "195  07/12/2023     3.9  \n",
       "196  08/08/2022     4.4  \n",
       "197  2022-07-03     4.5  \n",
       "198  2023-11-12     1.2  \n",
       "199  08-30-2022     3.9  \n",
       "\n",
       "[200 rows x 7 columns]"
      ]
     },
     "execution_count": 53,
     "metadata": {},
     "output_type": "execute_result"
    }
   ],
   "source": [
    "df"
   ]
  },
  {
   "cell_type": "code",
   "execution_count": 54,
   "id": "dc909fc5-1c6a-479a-be7a-9dbdbc4ae301",
   "metadata": {},
   "outputs": [
    {
     "name": "stdout",
     "output_type": "stream",
     "text": [
      "    Customer_ID         Name   Age  Purchase_Amount        Category  \\\n",
      "0      CUST1000  Alice Brown  35.0          1914.05            toys   \n",
      "1      CUST1001   Jane Smith  35.0           344.45         Fashion   \n",
      "2      CUST1002  Emily Davis  31.0            79.21     electronics   \n",
      "3      CUST1003   Jane Smith  60.0           143.65            Toys   \n",
      "4      CUST1004   Jane Smith  58.0            31.35     Electronics   \n",
      "..          ...          ...   ...              ...             ...   \n",
      "195    CUST1195  Alice Brown  21.0            34.75         Fashion   \n",
      "196    CUST1196  Bob Johnson  46.0            16.81            toys   \n",
      "197    CUST1197  Emily Davis  36.0           396.05  home & kitchen   \n",
      "198    CUST1198     John Doe  19.0           137.98  home & kitchen   \n",
      "199    CUST1199  Bob Johnson  21.0           349.33            Toys   \n",
      "\n",
      "           Date  Rating  \n",
      "0    22/04/2023     1.8  \n",
      "1    30/10/2023     3.2  \n",
      "2    06/06/2023     3.4  \n",
      "3    11/12/2023     1.6  \n",
      "4    03/07/2023     1.2  \n",
      "..          ...     ...  \n",
      "195  07/12/2023     3.9  \n",
      "196  08/08/2022     4.4  \n",
      "197  03/07/2022     4.5  \n",
      "198  12/11/2023     1.2  \n",
      "199  30/08/2022     3.9  \n",
      "\n",
      "[200 rows x 7 columns]\n"
     ]
    }
   ],
   "source": [
    "def convert_dates(date_str):\n",
    "    for fmt in (\"%d/%m/%Y\", \"%Y-%m-%d\", \"%d-%m-%Y\", \"%m-%d-%Y\"):\n",
    "        try:\n",
    "            return pd.to_datetime(date_str, format=fmt).strftime('%d/%m/%Y')\n",
    "        except ValueError:\n",
    "            continue\n",
    "    return pd.NaT  # Return NaT if all formats fail\n",
    "\n",
    "# Apply the function to the 'Date' column\n",
    "df['Date'] = df['Date'].apply(convert_dates)\n",
    "\n",
    "# Print the DataFrame\n",
    "print(df)"
   ]
  },
  {
   "cell_type": "code",
   "execution_count": 55,
   "id": "c9b9aeae-1058-4b02-adcc-44bb39b7e23c",
   "metadata": {},
   "outputs": [
    {
     "data": {
      "text/html": [
       "<div>\n",
       "<style scoped>\n",
       "    .dataframe tbody tr th:only-of-type {\n",
       "        vertical-align: middle;\n",
       "    }\n",
       "\n",
       "    .dataframe tbody tr th {\n",
       "        vertical-align: top;\n",
       "    }\n",
       "\n",
       "    .dataframe thead th {\n",
       "        text-align: right;\n",
       "    }\n",
       "</style>\n",
       "<table border=\"1\" class=\"dataframe\">\n",
       "  <thead>\n",
       "    <tr style=\"text-align: right;\">\n",
       "      <th></th>\n",
       "      <th>Customer_ID</th>\n",
       "      <th>Name</th>\n",
       "      <th>Age</th>\n",
       "      <th>Purchase_Amount</th>\n",
       "      <th>Category</th>\n",
       "      <th>Date</th>\n",
       "      <th>Rating</th>\n",
       "    </tr>\n",
       "  </thead>\n",
       "  <tbody>\n",
       "    <tr>\n",
       "      <th>0</th>\n",
       "      <td>CUST1000</td>\n",
       "      <td>Alice Brown</td>\n",
       "      <td>35.0</td>\n",
       "      <td>1914.05</td>\n",
       "      <td>toys</td>\n",
       "      <td>22/04/2023</td>\n",
       "      <td>1.8</td>\n",
       "    </tr>\n",
       "    <tr>\n",
       "      <th>1</th>\n",
       "      <td>CUST1001</td>\n",
       "      <td>Jane Smith</td>\n",
       "      <td>35.0</td>\n",
       "      <td>344.45</td>\n",
       "      <td>Fashion</td>\n",
       "      <td>30/10/2023</td>\n",
       "      <td>3.2</td>\n",
       "    </tr>\n",
       "    <tr>\n",
       "      <th>2</th>\n",
       "      <td>CUST1002</td>\n",
       "      <td>Emily Davis</td>\n",
       "      <td>31.0</td>\n",
       "      <td>79.21</td>\n",
       "      <td>electronics</td>\n",
       "      <td>06/06/2023</td>\n",
       "      <td>3.4</td>\n",
       "    </tr>\n",
       "    <tr>\n",
       "      <th>3</th>\n",
       "      <td>CUST1003</td>\n",
       "      <td>Jane Smith</td>\n",
       "      <td>60.0</td>\n",
       "      <td>143.65</td>\n",
       "      <td>Toys</td>\n",
       "      <td>11/12/2023</td>\n",
       "      <td>1.6</td>\n",
       "    </tr>\n",
       "    <tr>\n",
       "      <th>4</th>\n",
       "      <td>CUST1004</td>\n",
       "      <td>Jane Smith</td>\n",
       "      <td>58.0</td>\n",
       "      <td>31.35</td>\n",
       "      <td>Electronics</td>\n",
       "      <td>03/07/2023</td>\n",
       "      <td>1.2</td>\n",
       "    </tr>\n",
       "    <tr>\n",
       "      <th>...</th>\n",
       "      <td>...</td>\n",
       "      <td>...</td>\n",
       "      <td>...</td>\n",
       "      <td>...</td>\n",
       "      <td>...</td>\n",
       "      <td>...</td>\n",
       "      <td>...</td>\n",
       "    </tr>\n",
       "    <tr>\n",
       "      <th>195</th>\n",
       "      <td>CUST1195</td>\n",
       "      <td>Alice Brown</td>\n",
       "      <td>21.0</td>\n",
       "      <td>34.75</td>\n",
       "      <td>Fashion</td>\n",
       "      <td>07/12/2023</td>\n",
       "      <td>3.9</td>\n",
       "    </tr>\n",
       "    <tr>\n",
       "      <th>196</th>\n",
       "      <td>CUST1196</td>\n",
       "      <td>Bob Johnson</td>\n",
       "      <td>46.0</td>\n",
       "      <td>16.81</td>\n",
       "      <td>toys</td>\n",
       "      <td>08/08/2022</td>\n",
       "      <td>4.4</td>\n",
       "    </tr>\n",
       "    <tr>\n",
       "      <th>197</th>\n",
       "      <td>CUST1197</td>\n",
       "      <td>Emily Davis</td>\n",
       "      <td>36.0</td>\n",
       "      <td>396.05</td>\n",
       "      <td>home &amp; kitchen</td>\n",
       "      <td>03/07/2022</td>\n",
       "      <td>4.5</td>\n",
       "    </tr>\n",
       "    <tr>\n",
       "      <th>198</th>\n",
       "      <td>CUST1198</td>\n",
       "      <td>John Doe</td>\n",
       "      <td>19.0</td>\n",
       "      <td>137.98</td>\n",
       "      <td>home &amp; kitchen</td>\n",
       "      <td>12/11/2023</td>\n",
       "      <td>1.2</td>\n",
       "    </tr>\n",
       "    <tr>\n",
       "      <th>199</th>\n",
       "      <td>CUST1199</td>\n",
       "      <td>Bob Johnson</td>\n",
       "      <td>21.0</td>\n",
       "      <td>349.33</td>\n",
       "      <td>Toys</td>\n",
       "      <td>30/08/2022</td>\n",
       "      <td>3.9</td>\n",
       "    </tr>\n",
       "  </tbody>\n",
       "</table>\n",
       "<p>200 rows × 7 columns</p>\n",
       "</div>"
      ],
      "text/plain": [
       "    Customer_ID         Name   Age  Purchase_Amount        Category  \\\n",
       "0      CUST1000  Alice Brown  35.0          1914.05            toys   \n",
       "1      CUST1001   Jane Smith  35.0           344.45         Fashion   \n",
       "2      CUST1002  Emily Davis  31.0            79.21     electronics   \n",
       "3      CUST1003   Jane Smith  60.0           143.65            Toys   \n",
       "4      CUST1004   Jane Smith  58.0            31.35     Electronics   \n",
       "..          ...          ...   ...              ...             ...   \n",
       "195    CUST1195  Alice Brown  21.0            34.75         Fashion   \n",
       "196    CUST1196  Bob Johnson  46.0            16.81            toys   \n",
       "197    CUST1197  Emily Davis  36.0           396.05  home & kitchen   \n",
       "198    CUST1198     John Doe  19.0           137.98  home & kitchen   \n",
       "199    CUST1199  Bob Johnson  21.0           349.33            Toys   \n",
       "\n",
       "           Date  Rating  \n",
       "0    22/04/2023     1.8  \n",
       "1    30/10/2023     3.2  \n",
       "2    06/06/2023     3.4  \n",
       "3    11/12/2023     1.6  \n",
       "4    03/07/2023     1.2  \n",
       "..          ...     ...  \n",
       "195  07/12/2023     3.9  \n",
       "196  08/08/2022     4.4  \n",
       "197  03/07/2022     4.5  \n",
       "198  12/11/2023     1.2  \n",
       "199  30/08/2022     3.9  \n",
       "\n",
       "[200 rows x 7 columns]"
      ]
     },
     "execution_count": 55,
     "metadata": {},
     "output_type": "execute_result"
    }
   ],
   "source": [
    "df"
   ]
  },
  {
   "cell_type": "code",
   "execution_count": 56,
   "id": "34530597-aa90-430f-a31a-9247f2b0d0dd",
   "metadata": {},
   "outputs": [
    {
     "data": {
      "text/plain": [
       "Customer_ID         object\n",
       "Name                object\n",
       "Age                float64\n",
       "Purchase_Amount    float64\n",
       "Category            object\n",
       "Date                object\n",
       "Rating             float64\n",
       "dtype: object"
      ]
     },
     "execution_count": 56,
     "metadata": {},
     "output_type": "execute_result"
    }
   ],
   "source": [
    "df.dtypes"
   ]
  },
  {
   "cell_type": "code",
   "execution_count": 57,
   "id": "cc5d78d1-737b-4726-a94c-27354e7e50f7",
   "metadata": {},
   "outputs": [],
   "source": [
    "df['Age'] = df['Age'].astype(int)"
   ]
  },
  {
   "cell_type": "code",
   "execution_count": 58,
   "id": "5afa9535-fa43-4f75-8a58-f0bb7a844c79",
   "metadata": {},
   "outputs": [],
   "source": [
    "df['Name'] = df['Name'].astype(str)"
   ]
  },
  {
   "cell_type": "code",
   "execution_count": 59,
   "id": "3f3ac548-d333-4fce-950b-1ae9f95366cc",
   "metadata": {},
   "outputs": [],
   "source": [
    "df['Category'] = df['Category'].astype(str)"
   ]
  },
  {
   "cell_type": "code",
   "execution_count": 60,
   "id": "bb40d075-79de-479b-925a-4590537be86b",
   "metadata": {},
   "outputs": [],
   "source": [
    "df['Rating'] = df['Rating'].astype(float)"
   ]
  },
  {
   "cell_type": "code",
   "execution_count": 61,
   "id": "f2efa7a2-c738-45e4-8853-ca45f72a4fd8",
   "metadata": {},
   "outputs": [
    {
     "data": {
      "text/plain": [
       "Customer_ID         object\n",
       "Name                object\n",
       "Age                  int64\n",
       "Purchase_Amount    float64\n",
       "Category            object\n",
       "Date                object\n",
       "Rating             float64\n",
       "dtype: object"
      ]
     },
     "execution_count": 61,
     "metadata": {},
     "output_type": "execute_result"
    }
   ],
   "source": [
    "df.dtypes"
   ]
  },
  {
   "cell_type": "code",
   "execution_count": 62,
   "id": "5737a153-7e27-4974-a599-d16738238828",
   "metadata": {},
   "outputs": [
    {
     "data": {
      "text/html": [
       "<div>\n",
       "<style scoped>\n",
       "    .dataframe tbody tr th:only-of-type {\n",
       "        vertical-align: middle;\n",
       "    }\n",
       "\n",
       "    .dataframe tbody tr th {\n",
       "        vertical-align: top;\n",
       "    }\n",
       "\n",
       "    .dataframe thead th {\n",
       "        text-align: right;\n",
       "    }\n",
       "</style>\n",
       "<table border=\"1\" class=\"dataframe\">\n",
       "  <thead>\n",
       "    <tr style=\"text-align: right;\">\n",
       "      <th></th>\n",
       "      <th>Customer_ID</th>\n",
       "      <th>Name</th>\n",
       "      <th>Age</th>\n",
       "      <th>Purchase_Amount</th>\n",
       "      <th>Category</th>\n",
       "      <th>Date</th>\n",
       "      <th>Rating</th>\n",
       "    </tr>\n",
       "  </thead>\n",
       "  <tbody>\n",
       "    <tr>\n",
       "      <th>0</th>\n",
       "      <td>CUST1000</td>\n",
       "      <td>Alice Brown</td>\n",
       "      <td>35</td>\n",
       "      <td>1914.05</td>\n",
       "      <td>toys</td>\n",
       "      <td>22/04/2023</td>\n",
       "      <td>1.8</td>\n",
       "    </tr>\n",
       "    <tr>\n",
       "      <th>1</th>\n",
       "      <td>CUST1001</td>\n",
       "      <td>Jane Smith</td>\n",
       "      <td>35</td>\n",
       "      <td>344.45</td>\n",
       "      <td>Fashion</td>\n",
       "      <td>30/10/2023</td>\n",
       "      <td>3.2</td>\n",
       "    </tr>\n",
       "    <tr>\n",
       "      <th>2</th>\n",
       "      <td>CUST1002</td>\n",
       "      <td>Emily Davis</td>\n",
       "      <td>31</td>\n",
       "      <td>79.21</td>\n",
       "      <td>electronics</td>\n",
       "      <td>06/06/2023</td>\n",
       "      <td>3.4</td>\n",
       "    </tr>\n",
       "    <tr>\n",
       "      <th>3</th>\n",
       "      <td>CUST1003</td>\n",
       "      <td>Jane Smith</td>\n",
       "      <td>60</td>\n",
       "      <td>143.65</td>\n",
       "      <td>Toys</td>\n",
       "      <td>11/12/2023</td>\n",
       "      <td>1.6</td>\n",
       "    </tr>\n",
       "    <tr>\n",
       "      <th>4</th>\n",
       "      <td>CUST1004</td>\n",
       "      <td>Jane Smith</td>\n",
       "      <td>58</td>\n",
       "      <td>31.35</td>\n",
       "      <td>Electronics</td>\n",
       "      <td>03/07/2023</td>\n",
       "      <td>1.2</td>\n",
       "    </tr>\n",
       "    <tr>\n",
       "      <th>...</th>\n",
       "      <td>...</td>\n",
       "      <td>...</td>\n",
       "      <td>...</td>\n",
       "      <td>...</td>\n",
       "      <td>...</td>\n",
       "      <td>...</td>\n",
       "      <td>...</td>\n",
       "    </tr>\n",
       "    <tr>\n",
       "      <th>195</th>\n",
       "      <td>CUST1195</td>\n",
       "      <td>Alice Brown</td>\n",
       "      <td>21</td>\n",
       "      <td>34.75</td>\n",
       "      <td>Fashion</td>\n",
       "      <td>07/12/2023</td>\n",
       "      <td>3.9</td>\n",
       "    </tr>\n",
       "    <tr>\n",
       "      <th>196</th>\n",
       "      <td>CUST1196</td>\n",
       "      <td>Bob Johnson</td>\n",
       "      <td>46</td>\n",
       "      <td>16.81</td>\n",
       "      <td>toys</td>\n",
       "      <td>08/08/2022</td>\n",
       "      <td>4.4</td>\n",
       "    </tr>\n",
       "    <tr>\n",
       "      <th>197</th>\n",
       "      <td>CUST1197</td>\n",
       "      <td>Emily Davis</td>\n",
       "      <td>36</td>\n",
       "      <td>396.05</td>\n",
       "      <td>home &amp; kitchen</td>\n",
       "      <td>03/07/2022</td>\n",
       "      <td>4.5</td>\n",
       "    </tr>\n",
       "    <tr>\n",
       "      <th>198</th>\n",
       "      <td>CUST1198</td>\n",
       "      <td>John Doe</td>\n",
       "      <td>19</td>\n",
       "      <td>137.98</td>\n",
       "      <td>home &amp; kitchen</td>\n",
       "      <td>12/11/2023</td>\n",
       "      <td>1.2</td>\n",
       "    </tr>\n",
       "    <tr>\n",
       "      <th>199</th>\n",
       "      <td>CUST1199</td>\n",
       "      <td>Bob Johnson</td>\n",
       "      <td>21</td>\n",
       "      <td>349.33</td>\n",
       "      <td>Toys</td>\n",
       "      <td>30/08/2022</td>\n",
       "      <td>3.9</td>\n",
       "    </tr>\n",
       "  </tbody>\n",
       "</table>\n",
       "<p>200 rows × 7 columns</p>\n",
       "</div>"
      ],
      "text/plain": [
       "    Customer_ID         Name  Age  Purchase_Amount        Category  \\\n",
       "0      CUST1000  Alice Brown   35          1914.05            toys   \n",
       "1      CUST1001   Jane Smith   35           344.45         Fashion   \n",
       "2      CUST1002  Emily Davis   31            79.21     electronics   \n",
       "3      CUST1003   Jane Smith   60           143.65            Toys   \n",
       "4      CUST1004   Jane Smith   58            31.35     Electronics   \n",
       "..          ...          ...  ...              ...             ...   \n",
       "195    CUST1195  Alice Brown   21            34.75         Fashion   \n",
       "196    CUST1196  Bob Johnson   46            16.81            toys   \n",
       "197    CUST1197  Emily Davis   36           396.05  home & kitchen   \n",
       "198    CUST1198     John Doe   19           137.98  home & kitchen   \n",
       "199    CUST1199  Bob Johnson   21           349.33            Toys   \n",
       "\n",
       "           Date  Rating  \n",
       "0    22/04/2023     1.8  \n",
       "1    30/10/2023     3.2  \n",
       "2    06/06/2023     3.4  \n",
       "3    11/12/2023     1.6  \n",
       "4    03/07/2023     1.2  \n",
       "..          ...     ...  \n",
       "195  07/12/2023     3.9  \n",
       "196  08/08/2022     4.4  \n",
       "197  03/07/2022     4.5  \n",
       "198  12/11/2023     1.2  \n",
       "199  30/08/2022     3.9  \n",
       "\n",
       "[200 rows x 7 columns]"
      ]
     },
     "execution_count": 62,
     "metadata": {},
     "output_type": "execute_result"
    }
   ],
   "source": [
    "df"
   ]
  },
  {
   "cell_type": "code",
   "execution_count": 63,
   "id": "6f22d198-d087-47a3-9f04-8720038a460b",
   "metadata": {},
   "outputs": [],
   "source": [
    "df['Category'] = df['Category'].str.capitalize()\n",
    "# Fixing the column Category "
   ]
  },
  {
   "cell_type": "code",
   "execution_count": 64,
   "id": "0fc37a37-80d8-40b5-9b5c-6f4c6b485151",
   "metadata": {},
   "outputs": [
    {
     "data": {
      "text/html": [
       "<div>\n",
       "<style scoped>\n",
       "    .dataframe tbody tr th:only-of-type {\n",
       "        vertical-align: middle;\n",
       "    }\n",
       "\n",
       "    .dataframe tbody tr th {\n",
       "        vertical-align: top;\n",
       "    }\n",
       "\n",
       "    .dataframe thead th {\n",
       "        text-align: right;\n",
       "    }\n",
       "</style>\n",
       "<table border=\"1\" class=\"dataframe\">\n",
       "  <thead>\n",
       "    <tr style=\"text-align: right;\">\n",
       "      <th></th>\n",
       "      <th>Customer_ID</th>\n",
       "      <th>Name</th>\n",
       "      <th>Age</th>\n",
       "      <th>Purchase_Amount</th>\n",
       "      <th>Category</th>\n",
       "      <th>Date</th>\n",
       "      <th>Rating</th>\n",
       "    </tr>\n",
       "  </thead>\n",
       "  <tbody>\n",
       "    <tr>\n",
       "      <th>0</th>\n",
       "      <td>CUST1000</td>\n",
       "      <td>Alice Brown</td>\n",
       "      <td>35</td>\n",
       "      <td>1914.05</td>\n",
       "      <td>Toys</td>\n",
       "      <td>22/04/2023</td>\n",
       "      <td>1.8</td>\n",
       "    </tr>\n",
       "    <tr>\n",
       "      <th>1</th>\n",
       "      <td>CUST1001</td>\n",
       "      <td>Jane Smith</td>\n",
       "      <td>35</td>\n",
       "      <td>344.45</td>\n",
       "      <td>Fashion</td>\n",
       "      <td>30/10/2023</td>\n",
       "      <td>3.2</td>\n",
       "    </tr>\n",
       "    <tr>\n",
       "      <th>2</th>\n",
       "      <td>CUST1002</td>\n",
       "      <td>Emily Davis</td>\n",
       "      <td>31</td>\n",
       "      <td>79.21</td>\n",
       "      <td>Electronics</td>\n",
       "      <td>06/06/2023</td>\n",
       "      <td>3.4</td>\n",
       "    </tr>\n",
       "    <tr>\n",
       "      <th>3</th>\n",
       "      <td>CUST1003</td>\n",
       "      <td>Jane Smith</td>\n",
       "      <td>60</td>\n",
       "      <td>143.65</td>\n",
       "      <td>Toys</td>\n",
       "      <td>11/12/2023</td>\n",
       "      <td>1.6</td>\n",
       "    </tr>\n",
       "    <tr>\n",
       "      <th>4</th>\n",
       "      <td>CUST1004</td>\n",
       "      <td>Jane Smith</td>\n",
       "      <td>58</td>\n",
       "      <td>31.35</td>\n",
       "      <td>Electronics</td>\n",
       "      <td>03/07/2023</td>\n",
       "      <td>1.2</td>\n",
       "    </tr>\n",
       "    <tr>\n",
       "      <th>...</th>\n",
       "      <td>...</td>\n",
       "      <td>...</td>\n",
       "      <td>...</td>\n",
       "      <td>...</td>\n",
       "      <td>...</td>\n",
       "      <td>...</td>\n",
       "      <td>...</td>\n",
       "    </tr>\n",
       "    <tr>\n",
       "      <th>195</th>\n",
       "      <td>CUST1195</td>\n",
       "      <td>Alice Brown</td>\n",
       "      <td>21</td>\n",
       "      <td>34.75</td>\n",
       "      <td>Fashion</td>\n",
       "      <td>07/12/2023</td>\n",
       "      <td>3.9</td>\n",
       "    </tr>\n",
       "    <tr>\n",
       "      <th>196</th>\n",
       "      <td>CUST1196</td>\n",
       "      <td>Bob Johnson</td>\n",
       "      <td>46</td>\n",
       "      <td>16.81</td>\n",
       "      <td>Toys</td>\n",
       "      <td>08/08/2022</td>\n",
       "      <td>4.4</td>\n",
       "    </tr>\n",
       "    <tr>\n",
       "      <th>197</th>\n",
       "      <td>CUST1197</td>\n",
       "      <td>Emily Davis</td>\n",
       "      <td>36</td>\n",
       "      <td>396.05</td>\n",
       "      <td>Home &amp; kitchen</td>\n",
       "      <td>03/07/2022</td>\n",
       "      <td>4.5</td>\n",
       "    </tr>\n",
       "    <tr>\n",
       "      <th>198</th>\n",
       "      <td>CUST1198</td>\n",
       "      <td>John Doe</td>\n",
       "      <td>19</td>\n",
       "      <td>137.98</td>\n",
       "      <td>Home &amp; kitchen</td>\n",
       "      <td>12/11/2023</td>\n",
       "      <td>1.2</td>\n",
       "    </tr>\n",
       "    <tr>\n",
       "      <th>199</th>\n",
       "      <td>CUST1199</td>\n",
       "      <td>Bob Johnson</td>\n",
       "      <td>21</td>\n",
       "      <td>349.33</td>\n",
       "      <td>Toys</td>\n",
       "      <td>30/08/2022</td>\n",
       "      <td>3.9</td>\n",
       "    </tr>\n",
       "  </tbody>\n",
       "</table>\n",
       "<p>200 rows × 7 columns</p>\n",
       "</div>"
      ],
      "text/plain": [
       "    Customer_ID         Name  Age  Purchase_Amount        Category  \\\n",
       "0      CUST1000  Alice Brown   35          1914.05            Toys   \n",
       "1      CUST1001   Jane Smith   35           344.45         Fashion   \n",
       "2      CUST1002  Emily Davis   31            79.21     Electronics   \n",
       "3      CUST1003   Jane Smith   60           143.65            Toys   \n",
       "4      CUST1004   Jane Smith   58            31.35     Electronics   \n",
       "..          ...          ...  ...              ...             ...   \n",
       "195    CUST1195  Alice Brown   21            34.75         Fashion   \n",
       "196    CUST1196  Bob Johnson   46            16.81            Toys   \n",
       "197    CUST1197  Emily Davis   36           396.05  Home & kitchen   \n",
       "198    CUST1198     John Doe   19           137.98  Home & kitchen   \n",
       "199    CUST1199  Bob Johnson   21           349.33            Toys   \n",
       "\n",
       "           Date  Rating  \n",
       "0    22/04/2023     1.8  \n",
       "1    30/10/2023     3.2  \n",
       "2    06/06/2023     3.4  \n",
       "3    11/12/2023     1.6  \n",
       "4    03/07/2023     1.2  \n",
       "..          ...     ...  \n",
       "195  07/12/2023     3.9  \n",
       "196  08/08/2022     4.4  \n",
       "197  03/07/2022     4.5  \n",
       "198  12/11/2023     1.2  \n",
       "199  30/08/2022     3.9  \n",
       "\n",
       "[200 rows x 7 columns]"
      ]
     },
     "execution_count": 64,
     "metadata": {},
     "output_type": "execute_result"
    }
   ],
   "source": [
    "df"
   ]
  },
  {
   "cell_type": "code",
   "execution_count": 65,
   "id": "a92aae7e-2392-47ec-a04d-e3f88e5d20a1",
   "metadata": {},
   "outputs": [],
   "source": [
    "df.set_index('Customer_ID', inplace=True)"
   ]
  },
  {
   "cell_type": "code",
   "execution_count": 66,
   "id": "01ef6aca-b738-438a-9deb-4e2a7a0faf19",
   "metadata": {},
   "outputs": [
    {
     "data": {
      "text/html": [
       "<div>\n",
       "<style scoped>\n",
       "    .dataframe tbody tr th:only-of-type {\n",
       "        vertical-align: middle;\n",
       "    }\n",
       "\n",
       "    .dataframe tbody tr th {\n",
       "        vertical-align: top;\n",
       "    }\n",
       "\n",
       "    .dataframe thead th {\n",
       "        text-align: right;\n",
       "    }\n",
       "</style>\n",
       "<table border=\"1\" class=\"dataframe\">\n",
       "  <thead>\n",
       "    <tr style=\"text-align: right;\">\n",
       "      <th></th>\n",
       "      <th>Name</th>\n",
       "      <th>Age</th>\n",
       "      <th>Purchase_Amount</th>\n",
       "      <th>Category</th>\n",
       "      <th>Date</th>\n",
       "      <th>Rating</th>\n",
       "    </tr>\n",
       "    <tr>\n",
       "      <th>Customer_ID</th>\n",
       "      <th></th>\n",
       "      <th></th>\n",
       "      <th></th>\n",
       "      <th></th>\n",
       "      <th></th>\n",
       "      <th></th>\n",
       "    </tr>\n",
       "  </thead>\n",
       "  <tbody>\n",
       "    <tr>\n",
       "      <th>CUST1000</th>\n",
       "      <td>Alice Brown</td>\n",
       "      <td>35</td>\n",
       "      <td>1914.05</td>\n",
       "      <td>Toys</td>\n",
       "      <td>22/04/2023</td>\n",
       "      <td>1.8</td>\n",
       "    </tr>\n",
       "    <tr>\n",
       "      <th>CUST1001</th>\n",
       "      <td>Jane Smith</td>\n",
       "      <td>35</td>\n",
       "      <td>344.45</td>\n",
       "      <td>Fashion</td>\n",
       "      <td>30/10/2023</td>\n",
       "      <td>3.2</td>\n",
       "    </tr>\n",
       "    <tr>\n",
       "      <th>CUST1002</th>\n",
       "      <td>Emily Davis</td>\n",
       "      <td>31</td>\n",
       "      <td>79.21</td>\n",
       "      <td>Electronics</td>\n",
       "      <td>06/06/2023</td>\n",
       "      <td>3.4</td>\n",
       "    </tr>\n",
       "    <tr>\n",
       "      <th>CUST1003</th>\n",
       "      <td>Jane Smith</td>\n",
       "      <td>60</td>\n",
       "      <td>143.65</td>\n",
       "      <td>Toys</td>\n",
       "      <td>11/12/2023</td>\n",
       "      <td>1.6</td>\n",
       "    </tr>\n",
       "    <tr>\n",
       "      <th>CUST1004</th>\n",
       "      <td>Jane Smith</td>\n",
       "      <td>58</td>\n",
       "      <td>31.35</td>\n",
       "      <td>Electronics</td>\n",
       "      <td>03/07/2023</td>\n",
       "      <td>1.2</td>\n",
       "    </tr>\n",
       "    <tr>\n",
       "      <th>...</th>\n",
       "      <td>...</td>\n",
       "      <td>...</td>\n",
       "      <td>...</td>\n",
       "      <td>...</td>\n",
       "      <td>...</td>\n",
       "      <td>...</td>\n",
       "    </tr>\n",
       "    <tr>\n",
       "      <th>CUST1195</th>\n",
       "      <td>Alice Brown</td>\n",
       "      <td>21</td>\n",
       "      <td>34.75</td>\n",
       "      <td>Fashion</td>\n",
       "      <td>07/12/2023</td>\n",
       "      <td>3.9</td>\n",
       "    </tr>\n",
       "    <tr>\n",
       "      <th>CUST1196</th>\n",
       "      <td>Bob Johnson</td>\n",
       "      <td>46</td>\n",
       "      <td>16.81</td>\n",
       "      <td>Toys</td>\n",
       "      <td>08/08/2022</td>\n",
       "      <td>4.4</td>\n",
       "    </tr>\n",
       "    <tr>\n",
       "      <th>CUST1197</th>\n",
       "      <td>Emily Davis</td>\n",
       "      <td>36</td>\n",
       "      <td>396.05</td>\n",
       "      <td>Home &amp; kitchen</td>\n",
       "      <td>03/07/2022</td>\n",
       "      <td>4.5</td>\n",
       "    </tr>\n",
       "    <tr>\n",
       "      <th>CUST1198</th>\n",
       "      <td>John Doe</td>\n",
       "      <td>19</td>\n",
       "      <td>137.98</td>\n",
       "      <td>Home &amp; kitchen</td>\n",
       "      <td>12/11/2023</td>\n",
       "      <td>1.2</td>\n",
       "    </tr>\n",
       "    <tr>\n",
       "      <th>CUST1199</th>\n",
       "      <td>Bob Johnson</td>\n",
       "      <td>21</td>\n",
       "      <td>349.33</td>\n",
       "      <td>Toys</td>\n",
       "      <td>30/08/2022</td>\n",
       "      <td>3.9</td>\n",
       "    </tr>\n",
       "  </tbody>\n",
       "</table>\n",
       "<p>200 rows × 6 columns</p>\n",
       "</div>"
      ],
      "text/plain": [
       "                    Name  Age  Purchase_Amount        Category        Date  \\\n",
       "Customer_ID                                                                  \n",
       "CUST1000     Alice Brown   35          1914.05            Toys  22/04/2023   \n",
       "CUST1001      Jane Smith   35           344.45         Fashion  30/10/2023   \n",
       "CUST1002     Emily Davis   31            79.21     Electronics  06/06/2023   \n",
       "CUST1003      Jane Smith   60           143.65            Toys  11/12/2023   \n",
       "CUST1004      Jane Smith   58            31.35     Electronics  03/07/2023   \n",
       "...                  ...  ...              ...             ...         ...   \n",
       "CUST1195     Alice Brown   21            34.75         Fashion  07/12/2023   \n",
       "CUST1196     Bob Johnson   46            16.81            Toys  08/08/2022   \n",
       "CUST1197     Emily Davis   36           396.05  Home & kitchen  03/07/2022   \n",
       "CUST1198        John Doe   19           137.98  Home & kitchen  12/11/2023   \n",
       "CUST1199     Bob Johnson   21           349.33            Toys  30/08/2022   \n",
       "\n",
       "             Rating  \n",
       "Customer_ID          \n",
       "CUST1000        1.8  \n",
       "CUST1001        3.2  \n",
       "CUST1002        3.4  \n",
       "CUST1003        1.6  \n",
       "CUST1004        1.2  \n",
       "...             ...  \n",
       "CUST1195        3.9  \n",
       "CUST1196        4.4  \n",
       "CUST1197        4.5  \n",
       "CUST1198        1.2  \n",
       "CUST1199        3.9  \n",
       "\n",
       "[200 rows x 6 columns]"
      ]
     },
     "execution_count": 66,
     "metadata": {},
     "output_type": "execute_result"
    }
   ],
   "source": [
    "df"
   ]
  },
  {
   "cell_type": "code",
   "execution_count": 67,
   "id": "d57f532f-4532-4bcc-aaa0-cc24720f3cae",
   "metadata": {},
   "outputs": [
    {
     "data": {
      "text/plain": [
       "Name               Emily Davis\n",
       "Age                         45\n",
       "Purchase_Amount         388.16\n",
       "Category                  Toys\n",
       "Date                19/08/2022\n",
       "Rating                     4.9\n",
       "Name: CUST1066, dtype: object"
      ]
     },
     "execution_count": 67,
     "metadata": {},
     "output_type": "execute_result"
    }
   ],
   "source": [
    "df.iloc[66]"
   ]
  },
  {
   "cell_type": "code",
   "execution_count": 68,
   "id": "46d7dbb9-c733-4a9d-8cb4-ec75b3d8645e",
   "metadata": {},
   "outputs": [
    {
     "data": {
      "text/plain": [
       "Customer_ID\n",
       "CUST1000    False\n",
       "CUST1001    False\n",
       "CUST1002    False\n",
       "CUST1003    False\n",
       "CUST1004    False\n",
       "            ...  \n",
       "CUST1195    False\n",
       "CUST1196    False\n",
       "CUST1197    False\n",
       "CUST1198    False\n",
       "CUST1199    False\n",
       "Length: 200, dtype: bool"
      ]
     },
     "execution_count": 68,
     "metadata": {},
     "output_type": "execute_result"
    }
   ],
   "source": [
    "df.duplicated()"
   ]
  },
  {
   "cell_type": "code",
   "execution_count": 69,
   "id": "7864a84d-9c9b-44b0-9081-af3c5b53796a",
   "metadata": {},
   "outputs": [
    {
     "data": {
      "text/plain": [
       "Name               0\n",
       "Age                0\n",
       "Purchase_Amount    0\n",
       "Category           0\n",
       "Date               0\n",
       "Rating             0\n",
       "dtype: int64"
      ]
     },
     "execution_count": 69,
     "metadata": {},
     "output_type": "execute_result"
    }
   ],
   "source": [
    " df.isnull().sum()"
   ]
  },
  {
   "cell_type": "markdown",
   "id": "8d8ffb3e-0db1-4a55-852e-5680d1128e91",
   "metadata": {},
   "source": [
    "## Detecting and handling Outliers"
   ]
  },
  {
   "cell_type": "code",
   "execution_count": 70,
   "id": "1c3cb059-8785-42a4-9dec-0241bf026c40",
   "metadata": {},
   "outputs": [],
   "source": [
    "Q1 = df['Purchase_Amount'].quantile(0.25)\n",
    "Q3 = df['Purchase_Amount'].quantile(0.75)"
   ]
  },
  {
   "cell_type": "code",
   "execution_count": 71,
   "id": "24669b08-2184-43a1-a61e-c49159015990",
   "metadata": {},
   "outputs": [
    {
     "data": {
      "text/plain": [
       "np.float64(247.02749999999997)"
      ]
     },
     "execution_count": 71,
     "metadata": {},
     "output_type": "execute_result"
    }
   ],
   "source": [
    "IQR = Q3 - Q1\n",
    "IQR"
   ]
  },
  {
   "cell_type": "code",
   "execution_count": 72,
   "id": "b725b5d6-14af-4273-8077-c27ba8e6c2ec",
   "metadata": {},
   "outputs": [],
   "source": [
    "# Define bounds for outliers\n",
    "lower_bound = Q1 - 1.5 * IQR\n",
    "upper_bound = Q3 + 1.5 * IQR"
   ]
  },
  {
   "cell_type": "code",
   "execution_count": 73,
   "id": "dd3f3811-a48c-4d4a-80b4-174ea1dcc089",
   "metadata": {},
   "outputs": [
    {
     "name": "stdout",
     "output_type": "stream",
     "text": [
      "Detected Outliers:\n",
      "                    Name  Age  Purchase_Amount        Category        Date  \\\n",
      "Customer_ID                                                                  \n",
      "CUST1000     Alice Brown   35          1914.05            Toys  22/04/2023   \n",
      "CUST1050     Bob Johnson   32          1617.30            Toys  14/02/2023   \n",
      "CUST1100     Alice Brown   40          1086.60         Fashion  23/08/2023   \n",
      "CUST1150      Jane Smith   40          1139.10  Home & kitchen  16/12/2023   \n",
      "\n",
      "             Rating  \n",
      "Customer_ID          \n",
      "CUST1000        1.8  \n",
      "CUST1050        3.2  \n",
      "CUST1100        3.2  \n",
      "CUST1150        3.4  \n"
     ]
    }
   ],
   "source": [
    "# Identify outliers\n",
    "outliers = df[(df['Purchase_Amount'] < lower_bound) | (df['Purchase_Amount'] > upper_bound)]\n",
    "\n",
    "print(\"Detected Outliers:\")\n",
    "print(outliers)"
   ]
  },
  {
   "cell_type": "code",
   "execution_count": 74,
   "id": "0ccec551-48b4-4200-8572-3eb44895201f",
   "metadata": {},
   "outputs": [],
   "source": [
    "# Handle outliers\n",
    "# Option Cap outliers\n",
    "df['Purchase_Amount'] = np.where(df['Purchase_Amount'] < lower_bound, lower_bound, df['Purchase_Amount'])\n",
    "df['Purchase_Amount'] = np.where(df['Purchase_Amount'] > upper_bound, upper_bound, df['Purchase_Amount'])"
   ]
  },
  {
   "cell_type": "code",
   "execution_count": 75,
   "id": "bddac0f1-eb0c-41f3-8c94-a4186ace563a",
   "metadata": {},
   "outputs": [
    {
     "data": {
      "text/plain": [
       "1200"
      ]
     },
     "execution_count": 75,
     "metadata": {},
     "output_type": "execute_result"
    }
   ],
   "source": [
    "df.size"
   ]
  },
  {
   "cell_type": "code",
   "execution_count": 76,
   "id": "4ff6e0db-c416-426f-afda-45ef0d86b3c2",
   "metadata": {},
   "outputs": [
    {
     "data": {
      "text/plain": [
       "(200, 6)"
      ]
     },
     "execution_count": 76,
     "metadata": {},
     "output_type": "execute_result"
    }
   ],
   "source": [
    "df.shape"
   ]
  },
  {
   "cell_type": "markdown",
   "id": "06cfc8e7-b225-4148-bfd7-d84a96a400d6",
   "metadata": {},
   "source": [
    "## Exploratory Data Analysis (EDA):"
   ]
  },
  {
   "cell_type": "markdown",
   "id": "28ac78c1-dcef-41ad-8be3-6be0603b9147",
   "metadata": {},
   "source": [
    "# Generate summary statistics for all numerical columns"
   ]
  },
  {
   "cell_type": "code",
   "execution_count": 38,
   "id": "20fc24cc-3f49-4ca8-8787-a8f7055b2fb3",
   "metadata": {},
   "outputs": [
    {
     "name": "stdout",
     "output_type": "stream",
     "text": [
      "Summary Statistics for Numerical Columns:\n",
      "              Age  Purchase_Amount      Rating\n",
      "count  200.000000       200.000000  200.000000\n",
      "mean    40.790000       266.820425    3.112000\n",
      "std     12.596797       157.333940    1.109283\n",
      "min     18.000000        12.910000    1.000000\n",
      "25%     31.750000       133.175000    2.200000\n",
      "50%     40.000000       264.425000    3.200000\n",
      "75%     49.250000       380.202500    3.900000\n",
      "max     65.000000       750.743750    5.000000\n"
     ]
    }
   ],
   "source": [
    "summary_statistics = df.describe()\n",
    "\n",
    "# Display the summary statistics\n",
    "print(\"Summary Statistics for Numerical Columns:\")\n",
    "print(summary_statistics)"
   ]
  },
  {
   "cell_type": "markdown",
   "id": "6aff4101-e2ea-4dcc-ab22-13696d172a36",
   "metadata": {},
   "source": [
    "## Identify trends and distributions"
   ]
  },
  {
   "cell_type": "code",
   "execution_count": 39,
   "id": "f5419801-c653-46e6-b7c2-0a3996eff322",
   "metadata": {},
   "outputs": [
    {
     "data": {
      "image/png": "[encoded data removed]",
      "text/plain": [
       "<Figure size 1000x600 with 1 Axes>"
      ]
     },
     "metadata": {},
     "output_type": "display_data"
    }
   ],
   "source": [
    "# Plotting the age distribution\n",
    "plt.figure(figsize=(10, 6))\n",
    "plt.hist(df['Age'], bins=15, color='skyblue', edgecolor='black')\n",
    "plt.title('Age Distribution of Customers')\n",
    "plt.xlabel('Age')\n",
    "plt.ylabel('Number of Customers')\n",
    "plt.grid(axis='y')\n",
    "plt.show()"
   ]
  },
  {
   "cell_type": "code",
   "execution_count": 40,
   "id": "45fdc9ba-9fd4-4ef8-b64f-a7687d5ef5f5",
   "metadata": {},
   "outputs": [
    {
     "data": {
      "image/png": "[encoded data removed]",
      "text/plain": [
       "<Figure size 1000x600 with 1 Axes>"
      ]
     },
     "metadata": {},
     "output_type": "display_data"
    }
   ],
   "source": [
    "# Count the occurrences of each category\n",
    "category_counts = df['Category'].value_counts()\n",
    "\n",
    "# Plotting the most common product categories\n",
    "plt.figure(figsize=(10, 6))\n",
    "category_counts.plot(kind='bar', color='lightgreen', edgecolor='black')\n",
    "plt.title('Most Common Product Categories')\n",
    "plt.xlabel('Category')\n",
    "plt.ylabel('Number of Purchases')\n",
    "plt.xticks(rotation=45)\n",
    "plt.grid(axis='y')\n",
    "plt.show()"
   ]
  },
  {
   "cell_type": "markdown",
   "id": "d25622b4-8457-4052-8c56-872dbf9cffd7",
   "metadata": {},
   "source": [
    "## Check for duplicates and ensure data integrity."
   ]
  },
  {
   "cell_type": "code",
   "execution_count": 41,
   "id": "e50c8a8f-b4b8-4d85-a511-7f6d944e9234",
   "metadata": {},
   "outputs": [],
   "source": [
    "# Identify duplicates\n",
    "duplicates = df.duplicated()"
   ]
  },
  {
   "cell_type": "code",
   "execution_count": 42,
   "id": "65690818-a29a-4ef5-852c-648814639f08",
   "metadata": {},
   "outputs": [
    {
     "name": "stdout",
     "output_type": "stream",
     "text": [
      "Number of duplicate rows: 0\n"
     ]
    }
   ],
   "source": [
    "print(f'Number of duplicate rows: {duplicates.sum()}')"
   ]
  },
  {
   "cell_type": "markdown",
   "id": "65338546-e712-4bb3-bd45-7b6a2150954a",
   "metadata": {},
   "source": [
    "# Data Transpormation"
   ]
  },
  {
   "cell_type": "markdown",
   "id": "3df38bc4-6820-41fe-8b3d-328063146cef",
   "metadata": {},
   "source": [
    "## Standardize the Category Column"
   ]
  },
  {
   "cell_type": "code",
   "execution_count": 44,
   "id": "39a66111-1f55-4dba-ba2a-6aeb8a3c76f7",
   "metadata": {},
   "outputs": [
    {
     "name": "stdout",
     "output_type": "stream",
     "text": [
      "DataFrame with standardized Category column:\n",
      "                    Name  Age  Purchase_Amount        Category        Date  \\\n",
      "Customer_ID                                                                  \n",
      "CUST1000     Alice Brown   35        750.74375            Toys  22/04/2023   \n",
      "CUST1001      Jane Smith   35        344.45000         Fashion  30/10/2023   \n",
      "CUST1002     Emily Davis   31         79.21000     Electronics  06/06/2023   \n",
      "CUST1003      Jane Smith   60        143.65000            Toys  11/12/2023   \n",
      "CUST1004      Jane Smith   58         31.35000     Electronics  03/07/2023   \n",
      "...                  ...  ...              ...             ...         ...   \n",
      "CUST1195     Alice Brown   21         34.75000         Fashion  07/12/2023   \n",
      "CUST1196     Bob Johnson   46         16.81000            Toys  08/08/2022   \n",
      "CUST1197     Emily Davis   36        396.05000  Home & Kitchen  03/07/2022   \n",
      "CUST1198        John Doe   19        137.98000  Home & Kitchen  12/11/2023   \n",
      "CUST1199     Bob Johnson   21        349.33000            Toys  30/08/2022   \n",
      "\n",
      "             Rating  \n",
      "Customer_ID          \n",
      "CUST1000        1.8  \n",
      "CUST1001        3.2  \n",
      "CUST1002        3.4  \n",
      "CUST1003        1.6  \n",
      "CUST1004        1.2  \n",
      "...             ...  \n",
      "CUST1195        3.9  \n",
      "CUST1196        4.4  \n",
      "CUST1197        4.5  \n",
      "CUST1198        1.2  \n",
      "CUST1199        3.9  \n",
      "\n",
      "[200 rows x 6 columns]\n"
     ]
    }
   ],
   "source": [
    "# Standardize the Category column\n",
    "df['Category'] = (df['Category']\n",
    "                  .str.lower()                      # Convert to lowercase\n",
    "                  .str.strip()                      # Remove leading/trailing whitespace\n",
    "                  .str.replace('_', ' ', regex=False)  # Replace underscores with spaces\n",
    "                  .str.replace('-', ' ', regex=False)  # Replace dashes with spaces\n",
    "                  .str.title())                     # Capitalize each word\n",
    "\n",
    "# Display the updated DataFrame to verify changes\n",
    "print(\"DataFrame with standardized Category column:\")\n",
    "print(df)"
   ]
  },
  {
   "cell_type": "markdown",
   "id": "795689cb-874a-4463-ac5d-2d9614e49286",
   "metadata": {},
   "source": [
    "## Creating a new column classifying purchases as \"Low\", \"Medium\", or \"High\" based on amount spent."
   ]
  },
  {
   "cell_type": "code",
   "execution_count": 78,
   "id": "4daa2c1b-0edd-4565-b9a3-1f1a15552fd7",
   "metadata": {},
   "outputs": [
    {
     "name": "stdout",
     "output_type": "stream",
     "text": [
      "DataFrame with Purchase Classification:\n",
      "             Purchase_Amount Purchase_Classification\n",
      "Customer_ID                                         \n",
      "CUST1000           750.74375                    High\n",
      "CUST1001           344.45000                  Medium\n",
      "CUST1002            79.21000                     Low\n",
      "CUST1003           143.65000                  Medium\n",
      "CUST1004            31.35000                     Low\n",
      "...                      ...                     ...\n",
      "CUST1195            34.75000                     Low\n",
      "CUST1196            16.81000                     Low\n",
      "CUST1197           396.05000                  Medium\n",
      "CUST1198           137.98000                  Medium\n",
      "CUST1199           349.33000                  Medium\n",
      "\n",
      "[200 rows x 2 columns]\n"
     ]
    }
   ],
   "source": [
    "# Define the bins and labels for classification\n",
    "bins = [0, 100, 500, float('inf')]  # Define the ranges\n",
    "labels = ['Low', 'Medium', 'High']   # Define the labels\n",
    "\n",
    "# Create a new column for classification\n",
    "df['Purchase_Classification'] = pd.cut(df['Purchase_Amount'], bins=bins, labels=labels, right=False)\n",
    "\n",
    "# Display the updated DataFrame to verify changes\n",
    "print(\"DataFrame with Purchase Classification:\")\n",
    "print(df[['Purchase_Amount', 'Purchase_Classification']])"
   ]
  },
  {
   "cell_type": "markdown",
   "id": "7d3b0526-864c-4d10-b19e-8ac12051a4cb",
   "metadata": {},
   "source": [
    "# Data Visualization:"
   ]
  },
  {
   "cell_type": "markdown",
   "id": "86278574-70f5-4135-86a8-b375d6dc11dc",
   "metadata": {},
   "source": [
    "## Create a bar chart showing the number of purchases per product category."
   ]
  },
  {
   "cell_type": "code",
   "execution_count": 79,
   "id": "248c3c91-d5b2-42d8-946b-c8fd3325d84b",
   "metadata": {},
   "outputs": [
    {
     "data": {
      "image/png": "[encoded data removed]",
      "text/plain": [
       "<Figure size 1000x600 with 1 Axes>"
      ]
     },
     "metadata": {},
     "output_type": "display_data"
    }
   ],
   "source": [
    "# Count the number of purchases per category\n",
    "category_counts = df['Category'].value_counts()\n",
    "\n",
    "# Plotting the number of purchases per product category\n",
    "plt.figure(figsize=(10, 6))\n",
    "category_counts.plot(kind='bar', color='skyblue', edgecolor='black')\n",
    "plt.title('Number of Purchases per Product Category')\n",
    "plt.xlabel('Product Category')\n",
    "plt.ylabel('Number of Purchases')\n",
    "plt.xticks(rotation=45)\n",
    "plt.grid(axis='y')\n",
    "plt.show()"
   ]
  },
  {
   "cell_type": "markdown",
   "id": "0a813c58-35bf-4091-b23f-be3fa384b664",
   "metadata": {},
   "source": [
    "### Generating a histogram for Purchase_Amount to visualize spending patterns."
   ]
  },
  {
   "cell_type": "code",
   "execution_count": 81,
   "id": "ec083516-1088-4a7b-9b56-2aa6bbb37cf9",
   "metadata": {},
   "outputs": [
    {
     "data": {
      "image/png": "[encoded data removed]",
      "text/plain": [
       "<Figure size 1000x600 with 1 Axes>"
      ]
     },
     "metadata": {},
     "output_type": "display_data"
    }
   ],
   "source": [
    "# Plotting the histogram for Purchase_Amount\n",
    "plt.figure(figsize=(10, 6))\n",
    "plt.hist(df['Purchase_Amount'], bins=10, color='lightblue', edgecolor='black')\n",
    "plt.title('Histogram of Purchase Amounts')\n",
    "plt.xlabel('Purchase Amount')\n",
    "plt.ylabel('Frequency')\n",
    "plt.grid(axis='y')\n",
    "plt.show()"
   ]
  },
  {
   "cell_type": "markdown",
   "id": "46a5b746-80c1-40a0-b1e9-6c6e884aaa7d",
   "metadata": {},
   "source": [
    "## Developing a box plot to detect outliers in purchase value "
   ]
  },
  {
   "cell_type": "code",
   "execution_count": 82,
   "id": "5fac1861-ca10-4532-a5d4-b1452f1934e9",
   "metadata": {},
   "outputs": [
    {
     "data": {
      "image/png": "[encoded data removed]",
      "text/plain": [
       "<Figure size 1000x600 with 1 Axes>"
      ]
     },
     "metadata": {},
     "output_type": "display_data"
    }
   ],
   "source": [
    "# Plotting the box plot for Purchase_Amount\n",
    "plt.figure(figsize=(10, 6))\n",
    "plt.boxplot(df['Purchase_Amount'], vert=False, patch_artist=True,\n",
    "            boxprops=dict(facecolor='lightblue', color='black'),\n",
    "            medianprops=dict(color='red'),\n",
    "            whiskerprops=dict(color='black'),\n",
    "            capprops=dict(color='black'))\n",
    "\n",
    "plt.title('Box Plot of Purchase Amounts')\n",
    "plt.xlabel('Purchase Amount')\n",
    "plt.grid(axis='x')\n",
    "plt.show()"
   ]
  },
  {
   "cell_type": "markdown",
   "id": "d3170a90-733e-4eae-b621-3f9aa9609c6b",
   "metadata": {},
   "source": [
    "## Creating a scatter plot to explore the relationship between Age and Purchase_Amount."
   ]
  },
  {
   "cell_type": "code",
   "execution_count": 83,
   "id": "0f875236-2358-471c-99db-41d567b13271",
   "metadata": {},
   "outputs": [
    {
     "data": {
      "image/png": "[encoded data removed]",
      "text/plain": [
       "<Figure size 1000x600 with 1 Axes>"
      ]
     },
     "metadata": {},
     "output_type": "display_data"
    }
   ],
   "source": [
    "# Plotting the scatter plot for Age vs. Purchase_Amount\n",
    "plt.figure(figsize=(10, 6))\n",
    "plt.scatter(df['Age'], df['Purchase_Amount'], color='blue', alpha=0.6)\n",
    "plt.title('Scatter Plot of Age vs. Purchase Amount')\n",
    "plt.xlabel('Age')\n",
    "plt.ylabel('Purchase Amount')\n",
    "plt.grid(True)\n",
    "plt.show()"
   ]
  },
  {
   "cell_type": "markdown",
   "id": "8507a080-858c-4e09-8e87-2479b6410643",
   "metadata": {},
   "source": [
    "# Insights and Recommendations:"
   ]
  },
  {
   "cell_type": "raw",
   "id": "e4824eb4-73a0-45c8-9ee7-45bffde2f332",
   "metadata": {},
   "source": [
    "In analyzing the customer purchase data, several insights emerged regarding purchasing behavior, spending patterns, and customer demographics. The dataset included information on 8 customers, detailing their age, purchase amounts, categories, and ratings.\n",
    "\n",
    "1. Spending Patterns: The analysis revealed a wide range of purchase amounts, with the maximum being $1914.05 and the minimum at $31.35. A box plot indicated the presence of outliers, particularly one customer spending significantly more than others. The histogram of purchase amounts showed that most transactions clustered around lower amounts, suggesting a common spending range among customers.\n",
    "\n",
    "2. Age Influence on Spending: A scatter plot demonstrated a relationship between age and purchase amount. While some older customers spent considerably more, such as the 60-year-olds, younger customers also demonstrated significant spending, indicating that age alone does not determine purchasing power. The correlation suggests that other factors, such as income or lifestyle, may influence spending habits.\n",
    "\n",
    "3. Category Preferences: The category analysis indicated that \"Toys\" and \"Electronics\" were the most popular categories among customers, with the highest number of purchases. This reflects a trend where customers are inclined to spend on entertainment and technology, which can be leveraged for targeted marketing."
   ]
  },
  {
   "cell_type": "markdown",
   "id": "d709907b-3926-4dc2-81b9-f76a1726538e",
   "metadata": {},
   "source": [
    "# Business Recommendations"
   ]
  },
  {
   "cell_type": "raw",
   "id": "0ab842b6-0b8c-4d13-a660-e7933ff78071",
   "metadata": {},
   "source": [
    "1. Targeted Marketing Campaigns: Given that \"Toys\" and \"Electronics\" are the most popular categories, a targeted marketing campaign focusing on these products can be beneficial. Promotions, discounts, or bundle offers in these categories could attract more customers and increase sales, particularly during peak shopping seasons.\n",
    "\n",
    "2. Focus on High-Spending Segments: The data shows significant outliers in spending, particularly for older customers. Developing loyalty programs or exclusive offers for high-spending segments could encourage repeat purchases. Additionally, understanding the motivations behind their higher spending could help tailor marketing strategies for similar demographics.\n",
    "\n",
    "3. Explore Age-Specific Promotions: The scatter plot's insights suggest that age does influence purchasing behavior, albeit not in a straightforward manner. Implementing age-specific promotions could enhance engagement. For instance, targeting younger demographics with tech gadgets and older customers with home improvement products may lead to increased sales across different segments.\n"
   ]
  },
  {
   "cell_type": "markdown",
   "id": "b45d2de2-5e39-4b94-bbe0-76013edb7f33",
   "metadata": {},
   "source": [
    "# Conclusion "
   ]
  },
  {
   "cell_type": "raw",
   "id": "c664b4ad-72c7-4d38-b6c9-27dc88c1639e",
   "metadata": {},
   "source": [
    "The analysis of customer purchase data reveals vital insights into spending habits and preferences. By focusing on popular product categories, targeting high-spending customer segments, and implementing age-specific marketing strategies, the business can enhance its sales performance and customer satisfaction. Continuous monitoring and analysis of purchasing behavior will further enable the business to adapt to changing consumer needs and maximize revenue."
   ]
  },
  {
   "cell_type": "code",
   "execution_count": 7,
   "id": "bf8aba42-be54-4f74-81c0-74389b2055ef",
   "metadata": {},
   "outputs": [],
   "source": [
    "df.to_csv('MVP.csv',index = False)"
   ]
  },
  {
   "cell_type": "code",
   "execution_count": null,
   "id": "afe35a2e-04bf-4ce6-a078-a63fc95ff9af",
   "metadata": {},
   "outputs": [],
   "source": []
  }
 ],
 "metadata": {
  "kernelspec": {
   "display_name": "Python 3 (ipykernel)",
   "language": "python",
   "name": "python3"
  },
  "language_info": {
   "codemirror_mode": {
    "name": "ipython",
    "version": 3
   },
   "file_extension": ".py",
   "mimetype": "text/x-python",
   "name": "python",
   "nbconvert_exporter": "python",
   "pygments_lexer": "ipython3",
   "version": "3.13.0"
  }
 },
 "nbformat": 4,
 "nbformat_minor": 5
}
